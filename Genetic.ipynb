{
 "cells": [
  {
   "cell_type": "code",
   "execution_count": 29,
   "metadata": {},
   "outputs": [],
   "source": [
    "import numpy as np\n",
    "import random"
   ]
  },
  {
   "cell_type": "code",
   "execution_count": 30,
   "metadata": {},
   "outputs": [],
   "source": [
    "# Improvement: Make terrain generation procedurally (as in the paper)\n",
    "\n",
    "terrain = {\n",
    "    \"x_max\": 30,\n",
    "    \"y_max\": 30,\n",
    "    \"tiles\": [\n",
    "    [6, 6, 6, 6, 6, 6, 6, 6, 6, 6, 6, 6, 6, 6, 6, 6, 6, 6, 6, 6, 6, 6, 6, 6, 6, 6, 6, 6, 6, 6],\n",
    "    [6, 1, 1, 1, 1, 1, 1, 1, 1, 2, 1, 1, 1, 1, 1, 1, 1, 1, 1, 1, 1, 1, 1, 1, 1, 1, 1, 1, 1, 6],\n",
    "    [6, 1, 1, 1, 2, 2, 1, 1, 1, 1, 1, 1, 1, 1, 2, 1, 1, 1, 1, 1, 1, 1, 1, 1, 1, 1, 2, 2, 1, 6],\n",
    "    [6, 1, 1, 1, 2, 2, 1, 1, 1, 1, 2, 1, 1, 1, 1, 1, 1, 1, 2, 1, 1, 1, 1, 1, 1, 1, 2, 2, 1, 6],\n",
    "    [6, 1, 1, 1, 1, 1, 1, 1, 1, 1, 1, 1, 1, 1, 1, 1, 1, 2, 2, 2, 1, 1, 1, 1, 1, 1, 1, 1, 1, 6],\n",
    "    [6, 1, 2, 1, 1, 1, 1, 1, 1, 1, 1, 1, 1, 1, 1, 1, 1, 2, 2, 2, 1, 1, 1, 1, 1, 1, 1, 1, 1, 6],\n",
    "    [6, 1, 1, 1, 1, 1, 1, 1, 1, 1, 1, 1, 1, 1, 1, 1, 1, 1, 2, 1, 1, 1, 1, 1, 1, 1, 1, 1, 1, 6],\n",
    "    [6, 1, 1, 1, 1, 1, 1, 1, 2, 2, 1, 1, 1, 1, 1, 1, 1, 1, 1, 1, 1, 1, 1, 1, 1, 1, 1, 1, 1, 6],\n",
    "    [6, 1, 1, 1, 1, 1, 1, 1, 2, 2, 1, 1, 1, 1, 1, 1, 1, 1, 1, 1, 1, 1, 1, 1, 1, 1, 1, 1, 1, 6],\n",
    "    [6, 1, 1, 1, 1, 1, 1, 1, 1, 1, 1, 1, 1, 1, 1, 1, 1, 1, 1, 1, 1, 1, 1, 1, 1, 1, 1, 1, 1, 6],\n",
    "    [6, 1, 1, 1, 1, 1, 1, 1, 1, 1, 1, 1, 1, 1, 1, 1, 2, 1, 1, 1, 1, 1, 1, 1, 1, 1, 1, 1, 1, 6],\n",
    "    [6, 1, 2, 2, 1, 1, 1, 1, 1, 1, 1, 2, 1, 1, 1, 1, 1, 1, 1, 1, 1, 1, 1, 1, 1, 1, 1, 1, 1, 6],\n",
    "    [6, 1, 1, 1, 1, 1, 1, 1, 1, 1, 1, 1, 1, 1, 1, 1, 1, 1, 1, 1, 1, 1, 1, 4, 4, 1, 1, 1, 1, 6],\n",
    "    [6, 1, 1, 1, 1, 1, 1, 1, 1, 1, 1, 1, 1, 1, 1, 1, 1, 1, 1, 1, 1, 1, 4, 4, 1, 1, 1, 1, 1, 6],\n",
    "    [6, 1, 1, 1, 1, 1, 1, 1, 1, 1, 1, 1, 1, 1, 1, 1, 1, 1, 1, 1, 1, 4, 4, 1, 1, 1, 1, 1, 1, 6],\n",
    "    [6, 1, 1, 1, 1, 1, 1, 1, 1, 1, 1, 1, 2, 2, 1, 1, 1, 1, 1, 1, 1, 4, 4, 1, 1, 1, 1, 1, 1, 6],\n",
    "    [6, 1, 2, 1, 1, 2, 1, 1, 5, 5, 1, 1, 2, 2, 1, 1, 1, 1, 1, 4, 4, 4, 1, 1, 1, 1, 1, 1, 1, 6],\n",
    "    [6, 1, 1, 1, 1, 1, 1, 5, 5, 5, 1, 1, 1, 1, 1, 1, 1, 6, 4, 4, 4, 1, 1, 1, 1, 1, 1, 1, 1, 6],\n",
    "    [6, 1, 1, 1, 1, 1, 5, 5, 5, 1, 1, 1, 1, 1, 1, 1, 6, 4, 4, 4, 2, 2, 1, 1, 1, 2, 1, 1, 1, 6],\n",
    "    [6, 1, 1, 1, 1, 5, 5, 5, 5, 1, 1, 1, 1, 1, 1, 1, 6, 4, 4, 2, 2, 2, 1, 1, 1, 1, 1, 1, 1, 6],\n",
    "    [6, 1, 1, 1, 1, 5, 5, 5, 1, 1, 1, 1, 1, 1, 1, 1, 6, 4, 4, 2, 2, 2, 1, 1, 1, 1, 1, 1, 1, 6],\n",
    "    [6, 1, 1, 1, 5, 5, 5, 1, 1, 1, 1, 1, 1, 1, 1, 1, 6, 4, 4, 2, 2, 2, 1, 1, 1, 1, 1, 1, 1, 6],\n",
    "    [6, 1, 1, 5, 5, 5, 1, 1, 1, 1, 1, 1, 1, 2, 1, 1, 6, 4, 4, 2, 2, 2, 1, 1, 1, 2, 1, 1, 1, 6],\n",
    "    [6, 1, 1, 5, 5, 5, 1, 2, 1, 1, 1, 1, 1, 1, 1, 1, 6, 4, 4, 2, 2, 2, 1, 1, 1, 1, 1, 1, 1, 6],\n",
    "    [6, 1, 1, 5, 5, 5, 1, 1, 1, 1, 1, 1, 1, 1, 1, 1, 1, 4, 4, 2, 2, 2, 2, 2, 1, 2, 1, 1, 1, 6],\n",
    "    [6, 1, 1, 5, 5, 5, 1, 2, 1, 1, 1, 1, 1, 1, 1, 1, 1, 4, 4, 2, 1, 2, 2, 2, 2, 1, 1, 1, 1, 6],\n",
    "    [6, 1, 1, 5, 5, 5, 1, 1, 1, 1, 1, 1, 1, 1, 1, 1, 1, 4, 4, 1, 2, 1, 1, 1, 1, 1, 1, 1, 1, 6],\n",
    "    [6, 2, 1, 5, 1, 1, 1, 1, 1, 1, 1, 1, 2, 1, 1, 1, 1, 4, 4, 4, 1, 2, 1, 1, 1, 1, 1, 1, 1, 6],\n",
    "    [6, 1, 1, 1, 1, 1, 1, 1, 1, 1, 1, 1, 1, 1, 1, 1, 1, 1, 4, 4, 4, 1, 2, 1, 1, 1, 1, 1, 1, 6],\n",
    "    [6, 6, 6, 6, 6, 6, 6, 6, 6, 6, 6, 6, 6, 6, 6, 6, 6, 6, 6, 6, 6, 6, 6, 6, 6, 6, 6, 6, 6, 6]]\n",
    "}"
   ]
  },
  {
   "cell_type": "markdown",
   "metadata": {},
   "source": [
    "## Visualization\n",
    "### Terrain"
   ]
  },
  {
   "cell_type": "code",
   "execution_count": null,
   "metadata": {},
   "outputs": [],
   "source": [
    "import matplotlib.pyplot as plt"
   ]
  },
  {
   "cell_type": "code",
   "execution_count": 32,
   "metadata": {},
   "outputs": [
    {
     "data": {
      "text/plain": [
       "[]"
      ]
     },
     "execution_count": 32,
     "metadata": {},
     "output_type": "execute_result"
    },
    {
     "data": {
      "image/png": "[encoded data removed]",
      "text/plain": [
       "<Figure size 720x720 with 1 Axes>"
      ]
     },
     "metadata": {
      "needs_background": "light"
     },
     "output_type": "display_data"
    }
   ],
   "source": [
    "from matplotlib import colors\n",
    "# make a color map of fixed colors\n",
    "# ToDo: remake definition of this data to accept easily other values\n",
    "                            # Grass, Forest, Scrub, Stone, Water, Lava\n",
    "cmap = colors.ListedColormap(['#7c8d4c', '#489030', '#b5ba61', '#7c8485', '#62c1e5', '#ff707e'])\n",
    "bounds=[0,1,2,3,4,5,6]\n",
    "norm = colors.BoundaryNorm(bounds, cmap.N)\n",
    "\n",
    "fig, ax = plt.subplots(figsize=(10,10))\n",
    "ax = plt.imshow(terrain['tiles'], cmap=cmap)\n",
    "plt.plot()"
   ]
  },
  {
   "cell_type": "markdown",
   "metadata": {},
   "source": [
    "## Data Definitions"
   ]
  },
  {
   "cell_type": "code",
   "execution_count": null,
   "metadata": {},
   "outputs": [],
   "source": [
    "\n",
    "tiles = {\n",
    "    1:{\n",
    "        \"type\": \"Grass\",\n",
    "        \"passable\": True,\n",
    "    },\n",
    "    2:{\n",
    "        \"type\": \"Forest\",\n",
    "        \"passable\": True,\n",
    "        \"next_state\": 3  #??\n",
    "    },\n",
    "    3:{\n",
    "        \"type\": \"Scrub\",\n",
    "        \"passable\": True\n",
    "    },\n",
    "    4:{\n",
    "        \"type\": \"Stone\",\n",
    "        \"passable\": False\n",
    "    },\n",
    "    5:{\n",
    "        \"type\": \"Water\",\n",
    "        \"passable\": True\n",
    "    },\n",
    "    6:{\n",
    "        \"type\": \"Lava\",\n",
    "        \"passable\": True\n",
    "    }\n",
    "}"
   ]
  },
  {
   "cell_type": "markdown",
   "metadata": {},
   "source": [
    "### **What the subject sees:**\n",
    "\n",
    "**Per-tile properties:**\n",
    "- **Material**: an index corresponding to the tile type\n",
    "- **nEnts**:  The  number  of  occupying  entities.   \n",
    "    This  istechnically learnable from the list of agents, \n",
    "    but thismay not be true for all architectures. \n",
    "    We include it forconvenience here, but may deprecate it in the future\n",
    "\n",
    "\n",
    "**Per-agent properties:**\n",
    "- **Lifetime**: Number of game ticks alive thus far\n",
    "- **Health**: Agents die at 0 health (hp)\n",
    "- **Food**: Agents begin taking damage at 0 food or water\n",
    "- **Water**: Agents begin taking damage at 0 food or water\n",
    "- **Position**: Row and column of the agent\n",
    "- **Position** Deltas: Offsets from the agent to the observer\n",
    "- **Damage**: Most recent amount of damage taken\n",
    "- **Same Color**: Whether the agent is the same color (and \n",
    "    thereby is in the same population) as the observer\n",
    "- **Freeze**: Whether the agent is frozen in place as a result \n",
    "    of having been hit by a mage attack\n"
   ]
  },
  {
   "cell_type": "code",
   "execution_count": 33,
   "metadata": {},
   "outputs": [],
   "source": [
    "import collections"
   ]
  },
  {
   "cell_type": "code",
   "execution_count": 36,
   "metadata": {},
   "outputs": [],
   "source": [
    "Position = collections.namedtuple('Position', 'x y')\n",
    "\n",
    "class subject():\n",
    "\n",
    "    def __init__():\n",
    "        \n",
    "        # Genetics\n",
    "        self.dna = None #?\n",
    "        \n",
    "        # Properties\n",
    "        self.lifetime = 0\n",
    "        self.health   = 100\n",
    "        self.food     = 100\n",
    "        self.water    = 100\n",
    "        self.position = self.spawn() # Position(x,y) \n",
    "        \n",
    "        \n",
    "    def spawn():\n",
    "        if random.rand()>0.5:\n",
    "            x = random.randint(1, terrain['x_max']-1)\n",
    "            y = random.choice([1, terrain['y_max']-1])\n",
    "        else:\n",
    "            x = random.choice([1, terrain['x_max']-1])\n",
    "            y = random.randint(1, terrain['y_max']-1)\n",
    "\n",
    "        return Position(x,y)\n",
    "    \n",
    "    \n",
    "    def \n",
    "    \n",
    "            "
   ]
  },
  {
   "cell_type": "code",
   "execution_count": null,
   "metadata": {},
   "outputs": [],
   "source": [
    "class genetic():\n",
    "    def __init__():\n",
    "        \n",
    "        \n",
    "        self.specie = specie\n",
    "        self.capacity = capacity\n",
    "        self.population = None # Initialized when run\n",
    "        \n",
    "        \n",
    "        \n",
    "        self.epochs = epochs\n",
    "        \n",
    "        \n",
    "        \n",
    "    def _genesis():\n",
    "        self.population = [self.specie() for _ in range(self.capacity)]\n",
    "        \n",
    "    def run():\n",
    "        \n",
    "        # 1 Initialize population\n",
    "        self.population = self._genesis()\n",
    "        \n",
    "        for epoch in self.epochs:\n",
    "            "
   ]
  },
  {
   "cell_type": "code",
   "execution_count": null,
   "metadata": {},
   "outputs": [],
   "source": []
  },
  {
   "cell_type": "code",
   "execution_count": null,
   "metadata": {},
   "outputs": [],
   "source": []
  },
  {
   "cell_type": "code",
   "execution_count": null,
   "metadata": {},
   "outputs": [],
   "source": []
  },
  {
   "cell_type": "code",
   "execution_count": null,
   "metadata": {},
   "outputs": [],
   "source": []
  },
  {
   "cell_type": "code",
   "execution_count": null,
   "metadata": {},
   "outputs": [],
   "source": []
  },
  {
   "cell_type": "code",
   "execution_count": null,
   "metadata": {},
   "outputs": [],
   "source": []
  },
  {
   "cell_type": "code",
   "execution_count": null,
   "metadata": {},
   "outputs": [],
   "source": []
  },
  {
   "cell_type": "code",
   "execution_count": null,
   "metadata": {},
   "outputs": [],
   "source": []
  },
  {
   "cell_type": "code",
   "execution_count": null,
   "metadata": {},
   "outputs": [],
   "source": []
  },
  {
   "cell_type": "code",
   "execution_count": null,
   "metadata": {},
   "outputs": [],
   "source": []
  },
  {
   "cell_type": "code",
   "execution_count": null,
   "metadata": {},
   "outputs": [],
   "source": []
  },
  {
   "cell_type": "code",
   "execution_count": null,
   "metadata": {},
   "outputs": [],
   "source": []
  },
  {
   "cell_type": "code",
   "execution_count": null,
   "metadata": {},
   "outputs": [],
   "source": []
  },
  {
   "cell_type": "code",
   "execution_count": null,
   "metadata": {},
   "outputs": [],
   "source": []
  },
  {
   "cell_type": "code",
   "execution_count": null,
   "metadata": {},
   "outputs": [],
   "source": []
  },
  {
   "cell_type": "code",
   "execution_count": null,
   "metadata": {},
   "outputs": [],
   "source": []
  },
  {
   "cell_type": "code",
   "execution_count": null,
   "metadata": {},
   "outputs": [],
   "source": []
  }
 ],
 "metadata": {
  "kernelspec": {
   "display_name": "Python 3",
   "language": "python",
   "name": "python3"
  },
  "language_info": {
   "codemirror_mode": {
    "name": "ipython",
    "version": 3
   },
   "file_extension": ".py",
   "mimetype": "text/x-python",
   "name": "python",
   "nbconvert_exporter": "python",
   "pygments_lexer": "ipython3",
   "version": "3.6.8"
  }
 },
 "nbformat": 4,
 "nbformat_minor": 2
}
